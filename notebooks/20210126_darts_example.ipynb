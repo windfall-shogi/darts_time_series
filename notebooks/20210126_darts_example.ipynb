{
 "cells": [
  {
   "cell_type": "markdown",
   "metadata": {},
   "source": [
    "# 時系列解析　Darts\n",
    "Dartsというライブラリを試してみる<br/>\n",
    "https://github.com/unit8co/darts<br/>\n",
    "インストール方法などは公式サイトを参照"
   ]
  },
  {
   "cell_type": "markdown",
   "metadata": {},
   "source": [
    "## Example\n",
    "公式サイトのサンプル\n",
    "\n",
    "データは../data/AirPassengers.csvに保存"
   ]
  },
  {
   "cell_type": "code",
   "execution_count": 1,
   "metadata": {},
   "outputs": [],
   "source": [
    "import pandas as pd\n",
    "from darts import TimeSeries\n",
    "\n",
    "df = pd.read_csv('../data/AirPassengers.csv', delimiter=\",\")\n",
    "series = TimeSeries.from_dataframe(df, 'Month', '#Passengers')\n",
    "train, val = series.split_after(pd.Timestamp('19580101'))"
   ]
  },
  {
   "cell_type": "code",
   "execution_count": 2,
   "metadata": {},
   "outputs": [
    {
     "data": {
      "text/plain": [
       "darts.timeseries.TimeSeries"
      ]
     },
     "execution_count": 2,
     "metadata": {},
     "output_type": "execute_result"
    }
   ],
   "source": [
    "type(train)"
   ]
  },
  {
   "cell_type": "code",
   "execution_count": 3,
   "metadata": {
    "scrolled": true
   },
   "outputs": [
    {
     "data": {
      "text/plain": [
       "['__abs__',\n",
       " '__add__',\n",
       " '__class__',\n",
       " '__contains__',\n",
       " '__copy__',\n",
       " '__deepcopy__',\n",
       " '__delattr__',\n",
       " '__dict__',\n",
       " '__dir__',\n",
       " '__doc__',\n",
       " '__eq__',\n",
       " '__format__',\n",
       " '__ge__',\n",
       " '__getattribute__',\n",
       " '__getitem__',\n",
       " '__gt__',\n",
       " '__hash__',\n",
       " '__init__',\n",
       " '__init_subclass__',\n",
       " '__le__',\n",
       " '__len__',\n",
       " '__lt__',\n",
       " '__module__',\n",
       " '__mul__',\n",
       " '__ne__',\n",
       " '__neg__',\n",
       " '__new__',\n",
       " '__pow__',\n",
       " '__radd__',\n",
       " '__reduce__',\n",
       " '__reduce_ex__',\n",
       " '__repr__',\n",
       " '__rmul__',\n",
       " '__round__',\n",
       " '__rsub__',\n",
       " '__rtruediv__',\n",
       " '__setattr__',\n",
       " '__sizeof__',\n",
       " '__str__',\n",
       " '__sub__',\n",
       " '__subclasshook__',\n",
       " '__truediv__',\n",
       " '__weakref__',\n",
       " '_assert_univariate',\n",
       " '_combine_from_pd_ops',\n",
       " '_combine_or_none',\n",
       " '_df',\n",
       " '_fill_missing_dates',\n",
       " '_freq',\n",
       " '_op_or_none',\n",
       " '_raise_if_not_within',\n",
       " '_values',\n",
       " 'add_datetime_attribute',\n",
       " 'add_holidays',\n",
       " 'append',\n",
       " 'append_values',\n",
       " 'autocorr',\n",
       " 'copy',\n",
       " 'describe',\n",
       " 'drop_after',\n",
       " 'drop_before',\n",
       " 'duration',\n",
       " 'end_time',\n",
       " 'first_value',\n",
       " 'first_values',\n",
       " 'freq',\n",
       " 'freq_str',\n",
       " 'from_dataframe',\n",
       " 'from_series',\n",
       " 'from_times_and_values',\n",
       " 'has_same_time_as',\n",
       " 'is_within_range',\n",
       " 'kurtosis',\n",
       " 'last_value',\n",
       " 'last_values',\n",
       " 'max',\n",
       " 'mean',\n",
       " 'median',\n",
       " 'min',\n",
       " 'pd_dataframe',\n",
       " 'pd_series',\n",
       " 'plot',\n",
       " 'resample',\n",
       " 'rescale_with_value',\n",
       " 'shift',\n",
       " 'skew',\n",
       " 'slice',\n",
       " 'slice_intersect',\n",
       " 'slice_n_points_after',\n",
       " 'slice_n_points_before',\n",
       " 'split_after',\n",
       " 'split_before',\n",
       " 'stack',\n",
       " 'start_time',\n",
       " 'std',\n",
       " 'sum',\n",
       " 'time_index',\n",
       " 'univariate_component',\n",
       " 'univariate_values',\n",
       " 'update',\n",
       " 'values',\n",
       " 'var',\n",
       " 'width']"
      ]
     },
     "execution_count": 3,
     "metadata": {},
     "output_type": "execute_result"
    }
   ],
   "source": [
    "dir(train)"
   ]
  },
  {
   "cell_type": "code",
   "execution_count": 4,
   "metadata": {},
   "outputs": [
    {
     "name": "stderr",
     "output_type": "stream",
     "text": [
      "D:\\miniconda3\\envs\\kaggle\\lib\\site-packages\\darts\\models\\exponential_smoothing.py:62: FutureWarning: the 'damped'' keyword is deprecated, use 'damped_trend' instead\n",
      "  hw_model = hw.ExponentialSmoothing(series.values(),\n",
      "D:\\miniconda3\\envs\\kaggle\\lib\\site-packages\\statsmodels\\tsa\\holtwinters\\model.py:427: FutureWarning: After 0.13 initialization must be handled at model creation\n",
      "  warnings.warn(\n"
     ]
    }
   ],
   "source": [
    "from darts.models import ExponentialSmoothing\n",
    "\n",
    "model = ExponentialSmoothing()\n",
    "model.fit(train)\n",
    "prediction = model.predict(len(val))"
   ]
  },
  {
   "cell_type": "code",
   "execution_count": 5,
   "metadata": {},
   "outputs": [
    {
     "data": {
      "text/plain": [
       "darts.timeseries.TimeSeries"
      ]
     },
     "execution_count": 5,
     "metadata": {},
     "output_type": "execute_result"
    }
   ],
   "source": [
    "type(prediction)"
   ]
  },
  {
   "cell_type": "code",
   "execution_count": 6,
   "metadata": {},
   "outputs": [
    {
     "data": {
      "text/plain": [
       "Text(0.5, 0, 'Year')"
      ]
     },
     "execution_count": 6,
     "metadata": {},
     "output_type": "execute_result"
    },
    {
     "data": {
      "image/png": "[encoded data removed]",
      "text/plain": [
       "<Figure size 432x288 with 1 Axes>"
      ]
     },
     "metadata": {
      "needs_background": "light"
     },
     "output_type": "display_data"
    }
   ],
   "source": [
    "import matplotlib.pyplot as plt\n",
    "\n",
    "series.plot(label='actual')\n",
    "prediction.plot(label='forecast', lw=2)\n",
    "plt.legend()\n",
    "plt.xlabel('Year')"
   ]
  },
  {
   "cell_type": "markdown",
   "metadata": {},
   "source": [
    "簡単に予測できた"
   ]
  },
  {
   "cell_type": "code",
   "execution_count": null,
   "metadata": {},
   "outputs": [],
   "source": []
  }
 ],
 "metadata": {
  "kernelspec": {
   "display_name": "Python 3",
   "language": "python",
   "name": "python3"
  },
  "language_info": {
   "codemirror_mode": {
    "name": "ipython",
    "version": 3
   },
   "file_extension": ".py",
   "mimetype": "text/x-python",
   "name": "python",
   "nbconvert_exporter": "python",
   "pygments_lexer": "ipython3",
   "version": "3.8.5"
  }
 },
 "nbformat": 4,
 "nbformat_minor": 4
}
